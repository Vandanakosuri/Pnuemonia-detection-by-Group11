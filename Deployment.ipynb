{
  "nbformat": 4,
  "nbformat_minor": 0,
  "metadata": {
    "colab": {
      "provenance": []
    },
    "kernelspec": {
      "name": "python3",
      "display_name": "Python 3"
    },
    "language_info": {
      "name": "python"
    }
  },
  "cells": [
    {
      "cell_type": "code",
      "source": [
        "import pickle\n",
        "pickle.dump(dense_net_model,open('dense_net_model.pkl','wb'))"
      ],
      "metadata": {
        "id": "dJV-MNqFuuTV"
      },
      "execution_count": null,
      "outputs": []
    },
    {
      "cell_type": "code",
      "source": [
        "import pickle\n",
        "\n",
        "pickle.dump(vgg_model,open('vgg_model.pkl','wb'))"
      ],
      "metadata": {
        "id": "lXewEUUnJZwm"
      },
      "execution_count": null,
      "outputs": []
    },
    {
      "cell_type": "code",
      "source": [],
      "metadata": {
        "id": "hsMuqO67JeA4"
      },
      "execution_count": null,
      "outputs": []
    },
    {
      "cell_type": "code",
      "source": [
        "a=test_datagen.flow_from_directory(\n",
        "    directory=\"../content/Public\",\n",
        "    target_size=(180,180),\n",
        "    color_mode=\"rgb\",\n",
        "    batch_size=1,\n",
        "    class_mode=None,\n",
        "    shuffle=False,\n",
        "    seed=42\n",
        ")"
      ],
      "metadata": {
        "colab": {
          "base_uri": "https://localhost:8080/"
        },
        "id": "jX_8jyuWukno",
        "outputId": "16858141-42a9-469e-db24-6648eeff191f"
      },
      "execution_count": null,
      "outputs": [
        {
          "output_type": "stream",
          "name": "stdout",
          "text": [
            "Found 2 images belonging to 3 classes.\n"
          ]
        }
      ]
    },
    {
      "cell_type": "code",
      "source": [
        "model = pickle.load(open(\"../content/dense_net_model.pkl\",'rb'))\n",
        "b=model.predict(a)"
      ],
      "metadata": {
        "id": "cyWsxuUSJd9V"
      },
      "execution_count": null,
      "outputs": []
    },
    {
      "cell_type": "code",
      "source": [
        "predicted_class_indices=np.argmax(b,axis=1)"
      ],
      "metadata": {
        "id": "ooj8_q7qJq4I"
      },
      "execution_count": null,
      "outputs": []
    },
    {
      "cell_type": "code",
      "source": [
        "print(predicted_class_indices)"
      ],
      "metadata": {
        "id": "3KZZ5oFXJuvQ"
      },
      "execution_count": null,
      "outputs": []
    }
  ]
}