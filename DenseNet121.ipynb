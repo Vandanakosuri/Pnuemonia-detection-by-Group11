{
  "nbformat": 4,
  "nbformat_minor": 0,
  "metadata": {
    "colab": {
      "provenance": []
    },
    "kernelspec": {
      "name": "python3",
      "display_name": "Python 3"
    },
    "language_info": {
      "name": "python"
    }
  },
  "cells": [
    {
      "cell_type": "markdown",
      "source": [
        "**DenseNet121 Implementation**"
      ],
      "metadata": {
        "id": "FSSQOibCiifA"
      }
    },
    {
      "cell_type": "code",
      "source": [
        "denset_net_pretrained_model = DenseNet121(weights=\"imagenet\", include_top=False, input_tensor=Input(shape=(180, 180, 3)))\n",
        "# construct the head of the model that will be placed on top of the\n",
        "# the base model\n",
        "dense_net_model = Sequential()\n",
        "dense_net_model.add(denset_net_pretrained_model)\n",
        "dense_net_model.add(GlobalAveragePooling2D())\n",
        "dense_net_model.add(Flatten())\n",
        "dense_net_model.add(Dropout(0.5))\n",
        "dense_net_model.add(Dense(128, activation='relu',kernel_regularizer=regularizers.l2(0.001)))\n",
        "dense_net_model.add(Dropout(0.5))\n",
        "dense_net_model.add(Dense(2, activation='sigmoid'))\n",
        "for layer in denset_net_pretrained_model.layers[:]:\n",
        "    layer.trainable = False"
      ],
      "metadata": {
        "colab": {
          "base_uri": "https://localhost:8080/"
        },
        "id": "-nAVLAhWhV4T",
        "outputId": "c7d6690a-ee09-48fe-e6d4-69b99ca6a483"
      },
      "execution_count": null,
      "outputs": [
        {
          "output_type": "stream",
          "name": "stdout",
          "text": [
            "conv_base is now NOT trainable\n"
          ]
        }
      ]
    },
    {
      "cell_type": "code",
      "source": [
        "dense_net_model.summary()"
      ],
      "metadata": {
        "colab": {
          "base_uri": "https://localhost:8080/"
        },
        "id": "prW9xW54jFVz",
        "outputId": "4912f85e-89ab-48c9-dab4-f3284c3b4990"
      },
      "execution_count": null,
      "outputs": [
        {
          "output_type": "stream",
          "name": "stdout",
          "text": [
            "Model: \"sequential_5\"\n",
            "_________________________________________________________________\n",
            " Layer (type)                Output Shape              Param #   \n",
            "=================================================================\n",
            " densenet121 (Functional)    (None, 5, 5, 1024)        7037504   \n",
            "                                                                 \n",
            " global_average_pooling2d_5  (None, 1024)              0         \n",
            "  (GlobalAveragePooling2D)                                       \n",
            "                                                                 \n",
            " flatten_5 (Flatten)         (None, 1024)              0         \n",
            "                                                                 \n",
            " dropout_1 (Dropout)         (None, 1024)              0         \n",
            "                                                                 \n",
            " dense_8 (Dense)             (None, 128)               131200    \n",
            "                                                                 \n",
            " dropout_2 (Dropout)         (None, 128)               0         \n",
            "                                                                 \n",
            " dense_9 (Dense)             (None, 2)                 258       \n",
            "                                                                 \n",
            "=================================================================\n",
            "Total params: 7168962 (27.35 MB)\n",
            "Trainable params: 131458 (513.51 KB)\n",
            "Non-trainable params: 7037504 (26.85 MB)\n",
            "_________________________________________________________________\n"
          ]
        }
      ]
    },
    {
      "cell_type": "code",
      "source": [
        "dense_net_model.compile(optimizer=Adam(learning_rate=0.001),loss='binary_crossentropy',metrics=[\"accuracy\",\"AUC\",\"Precision\",\"Recall\"])\n",
        "\n",
        "history_dense_net_model = dense_net_model.fit(train_generator, validation_data=train_generator, epochs=3)"
      ],
      "metadata": {
        "colab": {
          "base_uri": "https://localhost:8080/"
        },
        "id": "_roPqwaekI7_",
        "outputId": "9ee32006-0a3f-4330-ff64-d9a69b9a1886"
      },
      "execution_count": null,
      "outputs": [
        {
          "output_type": "stream",
          "name": "stdout",
          "text": [
            "Epoch 1/3\n",
            "524/524 [==============================] - 927s 2s/step - loss: 0.4987 - accuracy: 0.8428 - auc: 0.9104 - precision: 0.8340 - recall: 0.8388 - val_loss: 0.2911 - val_accuracy: 0.9202 - val_auc: 0.9760 - val_precision: 0.9168 - val_recall: 0.9209\n",
            "Epoch 2/3\n",
            "524/524 [==============================] - 889s 2s/step - loss: 0.3603 - accuracy: 0.8832 - auc: 0.9505 - precision: 0.8796 - recall: 0.8760 - val_loss: 0.2720 - val_accuracy: 0.9381 - val_auc: 0.9843 - val_precision: 0.9409 - val_recall: 0.9348\n",
            "Epoch 3/3\n",
            "524/524 [==============================] - 949s 2s/step - loss: 0.3221 - accuracy: 0.8923 - auc: 0.9600 - precision: 0.8931 - recall: 0.8920 - val_loss: 0.2326 - val_accuracy: 0.9427 - val_auc: 0.9865 - val_precision: 0.9435 - val_recall: 0.9408\n"
          ]
        }
      ]
    }
  ]
}